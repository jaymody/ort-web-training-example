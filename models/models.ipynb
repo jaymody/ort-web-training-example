{
 "cells": [
  {
   "cell_type": "code",
   "execution_count": 1,
   "metadata": {},
   "outputs": [
    {
     "name": "stdout",
     "output_type": "stream",
     "text": [
      "torch.Size([60000, 784]) torch.Size([60000])\n",
      "torch.Size([10000, 784]) torch.Size([10000])\n"
     ]
    }
   ],
   "source": [
    "import datasets\n",
    "import numpy as np\n",
    "import torch\n",
    "\n",
    "mnist = datasets.load_dataset(\"mnist\")\n",
    "\n",
    "xtrain = torch.FloatTensor(np.array(mnist[\"train\"][\"image\"]).reshape(-1, 784) / 255)\n",
    "ytrain = torch.LongTensor(np.array(mnist[\"train\"][\"label\"]))\n",
    "\n",
    "xtest = torch.FloatTensor(np.array(mnist[\"test\"][\"image\"]).reshape(-1, 784) / 255)\n",
    "ytest = torch.LongTensor(np.array(mnist[\"test\"][\"label\"]))\n",
    "\n",
    "print(xtrain.shape, ytrain.shape)\n",
    "print(xtest.shape, ytest.shape)"
   ]
  },
  {
   "cell_type": "code",
   "execution_count": 2,
   "metadata": {},
   "outputs": [
    {
     "name": "stderr",
     "output_type": "stream",
     "text": [
      "/home/jay/code/ort-web-training-example/models/.venv/lib/python3.10/site-packages/onnxruntime/training/utils/hooks/_zero_offload_subscriber.py:173: UserWarning: DeepSpeed import error No module named 'deepspeed'\n",
      "  warnings.warn(f\"DeepSpeed import error {e}\")\n",
      "/home/jay/code/ort-web-training-example/models/.venv/lib/python3.10/site-packages/onnxruntime/capi/onnxruntime_validation.py:114: UserWarning: WARNING: failed to get cudart_version from onnxruntime build info.\n",
      "  warnings.warn(\"WARNING: failed to get cudart_version from onnxruntime build info.\")\n"
     ]
    },
    {
     "name": "stdout",
     "output_type": "stream",
     "text": [
      "epoch 0, test acc = 0.13099999725818634\n",
      "epoch 1, test acc = 0.9383999705314636\n",
      "epoch 2, test acc = 0.9569000005722046\n",
      "epoch 3, test acc = 0.9620999693870544\n",
      "epoch 4, test acc = 0.9649999737739563\n",
      "final test acc = 0.9681999683380127\n"
     ]
    }
   ],
   "source": [
    "device = \"cuda\"\n",
    "\n",
    "model = torch.nn.Sequential(\n",
    "    torch.nn.Linear(784, 128),\n",
    "    torch.nn.ReLU(),\n",
    "    torch.nn.Linear(128, 10),\n",
    ")\n",
    "\n",
    "optimizer = torch.optim.Adam(model.parameters())\n",
    "\n",
    "train_loader = torch.utils.data.DataLoader(list(zip(xtrain, ytrain)), batch_size=64)\n",
    "val_loader = torch.utils.data.DataLoader(list(zip(xtest, ytest)), batch_size=64)\n",
    "\n",
    "\n",
    "def compute_metrics(loader):\n",
    "    n_correct, n_total = 0, 0\n",
    "    for x, y in loader:\n",
    "        x, y = x.to(device), y.to(device)\n",
    "        logits = model(x)\n",
    "        preds = torch.argmax(logits, axis=-1)\n",
    "        n_correct += (preds == y).sum()\n",
    "        n_total += len(x)\n",
    "    return n_correct / n_total\n",
    "\n",
    "\n",
    "pt_model = model.to(device)\n",
    "for epoch in range(5):\n",
    "    print(f\"epoch {epoch}, test acc = {compute_metrics(val_loader)}\")\n",
    "    for x, y in train_loader:\n",
    "        x, y = x.to(device), y.to(device)\n",
    "        logits = model(x)\n",
    "        loss = torch.nn.functional.cross_entropy(logits, y)\n",
    "        loss.backward()\n",
    "        optimizer.step()\n",
    "        optimizer.zero_grad()\n",
    "print(f\"final test acc = {compute_metrics(val_loader)}\")"
   ]
  },
  {
   "cell_type": "code",
   "execution_count": 3,
   "metadata": {},
   "outputs": [],
   "source": [
    "import io\n",
    "\n",
    "import onnx\n",
    "\n",
    "# Generate a random input.\n",
    "example_input = torch.randn(64, 784, device=device)\n",
    "\n",
    "input_names = [\"x\"]\n",
    "output_names = [\"y\"]\n",
    "dynamic_axes = {\"x\": {0: \"batch_size\"}, \"y\": {0: \"batch_size\"}}\n",
    "\n",
    "f = io.BytesIO()\n",
    "torch.onnx.export(\n",
    "    pt_model,\n",
    "    example_input,\n",
    "    f,\n",
    "    input_names=input_names,\n",
    "    output_names=output_names,\n",
    "    opset_version=14,\n",
    "    do_constant_folding=False,\n",
    "    training=torch.onnx.TrainingMode.TRAINING,\n",
    "    dynamic_axes=dynamic_axes,\n",
    "    export_params=True,\n",
    "    keep_initializers_as_inputs=False,\n",
    ")\n",
    "onnx_model = onnx.load_model_from_string(f.getvalue())"
   ]
  },
  {
   "cell_type": "code",
   "execution_count": 5,
   "metadata": {},
   "outputs": [
    {
     "name": "stderr",
     "output_type": "stream",
     "text": [
      "2024-03-04 22:29:33.942613446 [I:onnxruntime:Default, graph_transformer.cc:15 Apply] GraphTransformer ConstantSharing modified: 0 with status: OK\n",
      "2024-03-04 22:29:33.942637632 [I:onnxruntime:Default, graph_transformer.cc:15 Apply] GraphTransformer LayerNormFusion modified: 0 with status: OK\n",
      "2024-03-04 22:29:33.942653101 [I:onnxruntime:Default, graph_transformer.cc:15 Apply] GraphTransformer CommonSubexpressionElimination modified: 0 with status: OK\n",
      "2024-03-04 22:29:33.942658862 [I:onnxruntime:Default, graph_transformer.cc:15 Apply] GraphTransformer GeluFusion modified: 0 with status: OK\n",
      "2024-03-04 22:29:33.942663551 [I:onnxruntime:Default, graph_transformer.cc:15 Apply] GraphTransformer SimplifiedLayerNormFusion modified: 0 with status: OK\n",
      "2024-03-04 22:29:33.942668740 [I:onnxruntime:Default, graph_transformer.cc:15 Apply] GraphTransformer FastGeluFusion modified: 0 with status: OK\n",
      "2024-03-04 22:29:33.942673559 [I:onnxruntime:Default, graph_transformer.cc:15 Apply] GraphTransformer QuickGeluFusion modified: 0 with status: OK\n",
      "2024-03-04 22:29:33.942678489 [I:onnxruntime:Default, graph_transformer.cc:15 Apply] GraphTransformer SoftmaxCrossEntropyLossInternalFusion modified: 0 with status: OK\n",
      "2024-03-04 22:29:33.942683969 [I:onnxruntime:Default, graph_transformer.cc:15 Apply] GraphTransformer GatherToSplitFusion modified: 0 with status: OK\n",
      "2024-03-04 22:29:33.942688728 [I:onnxruntime:Default, graph_transformer.cc:15 Apply] GraphTransformer GatherToSliceFusion modified: 0 with status: OK\n",
      "2024-03-04 22:29:33.942693487 [I:onnxruntime:Default, graph_transformer.cc:15 Apply] GraphTransformer QDQFusion modified: 0 with status: OK\n",
      "2024-03-04 22:29:33.942698586 [I:onnxruntime:Default, graph_transformer.cc:15 Apply] GraphTransformer BiasGeluFusion modified: 0 with status: OK\n",
      "2024-03-04 22:29:33.942703456 [I:onnxruntime:Default, graph_transformer.cc:15 Apply] GraphTransformer IsInfReduceSumFusion modified: 0 with status: OK\n",
      "2024-03-04 22:29:33.942708104 [I:onnxruntime:Default, graph_transformer.cc:15 Apply] GraphTransformer ScaledSumFusion modified: 0 with status: OK\n",
      "2024-03-04 22:29:33.942714015 [I:onnxruntime:Default, graph_transformer.cc:15 Apply] GraphTransformer ConstantFolding modified: 0 with status: OK\n",
      "2024-03-04 22:29:33.942718754 [I:onnxruntime:Default, graph_transformer.cc:15 Apply] GraphTransformer ReshapeFusion modified: 0 with status: OK\n",
      "2024-03-04 22:29:33.942723874 [I:onnxruntime:Default, graph_transformer.cc:15 Apply] GraphTransformer ShapeOptimizer modified: 0 with status: OK\n",
      "2024-03-04 22:29:33.942728793 [I:onnxruntime:Default, graph_transformer.cc:15 Apply] GraphTransformer ConcatSliceElimination modified: 0 with status: OK\n",
      "2024-03-04 22:29:33.942740906 [I:onnxruntime:Default, graph_transformer.cc:15 Apply] GraphTransformer PropagateCastOps modified: 0 with status: OK\n",
      "2024-03-04 22:29:33.942747609 [I:onnxruntime:Default, graph_transformer.cc:15 Apply] GraphTransformer Level1_RuleBasedTransformer modified: 0 with status: OK\n",
      "2024-03-04 22:29:33.942752057 [I:onnxruntime:Default, graph_transformer.cc:15 Apply] GraphTransformer Level2_RuleBasedTransformer modified: 0 with status: OK\n",
      "2024-03-04 22:29:33.942983763 [I:onnxruntime:Default, graph_transformer.cc:15 Apply] GraphTransformer pre_training_rule_based_graph_transformer modified: 0 with status: OK\n"
     ]
    }
   ],
   "source": [
    "import os\n",
    "\n",
    "from onnxruntime.training import artifacts\n",
    "\n",
    "requires_grad = [\n",
    "    name for name, param in model.named_parameters() if param.requires_grad\n",
    "]\n",
    "\n",
    "frozen_params = [\n",
    "    name for name, param in model.named_parameters() if not param.requires_grad\n",
    "]\n",
    "\n",
    "out_dir = \"mlp\"\n",
    "os.makedirs(out_dir, exist_ok=True)\n",
    "\n",
    "artifacts.generate_artifacts(\n",
    "    onnx_model,\n",
    "    optimizer=artifacts.OptimType.AdamW,\n",
    "    loss=artifacts.LossType.CrossEntropyLoss,\n",
    "    requires_grad=requires_grad,\n",
    "    frozen_params=frozen_params,\n",
    "    additional_output_names=output_names,\n",
    "    artifact_directory=out_dir,\n",
    ")"
   ]
  },
  {
   "cell_type": "code",
   "execution_count": null,
   "metadata": {},
   "outputs": [],
   "source": []
  }
 ],
 "metadata": {
  "kernelspec": {
   "display_name": ".venv",
   "language": "python",
   "name": "python3"
  },
  "language_info": {
   "codemirror_mode": {
    "name": "ipython",
    "version": 3
   },
   "file_extension": ".py",
   "mimetype": "text/x-python",
   "name": "python",
   "nbconvert_exporter": "python",
   "pygments_lexer": "ipython3",
   "version": "3.10.13"
  }
 },
 "nbformat": 4,
 "nbformat_minor": 2
}
